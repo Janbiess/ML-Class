{
  "nbformat": 4,
  "nbformat_minor": 0,
  "metadata": {
    "colab": {
      "provenance": []
    },
    "kernelspec": {
      "name": "python3",
      "display_name": "Python 3"
    },
    "language_info": {
      "name": "python"
    }
  },
  "cells": [
    {
      "cell_type": "code",
      "execution_count": 17,
      "metadata": {
        "id": "iHGD_9J6j8ci"
      },
      "outputs": [],
      "source": [
        "import pandas as pd\n",
        "import numpy as np\n",
        "from sklearn.model_selection import train_test_split\n",
        "from sklearn.preprocessing import StandardScaler, OneHotEncoder\n",
        "import torch\n",
        "import torch.nn as nn\n",
        "import torch.optim as optim"
      ]
    },
    {
      "cell_type": "code",
      "source": [
        "# Load and clean the dataset\n",
        "data_columns = list(range(26))  # Dataset has 26 columns\n",
        "file_path = \"imports-85.data\"\n",
        "auto_data = pd.read_csv(file_path, header=None, names=data_columns, na_values=\"?\")\n"
      ],
      "metadata": {
        "id": "iiztHAwjj_G_"
      },
      "execution_count": 18,
      "outputs": []
    },
    {
      "cell_type": "code",
      "source": [
        "# Drop rows with missing target values (column 25)\n",
        "auto_data = auto_data.dropna(subset=[25])"
      ],
      "metadata": {
        "id": "cuyLAsovkNZY"
      },
      "execution_count": 19,
      "outputs": []
    },
    {
      "cell_type": "code",
      "source": [
        "# Convert numeric columns to proper types\n",
        "numeric_columns = [0, 9, 10, 11, 12, 13, 16, 20, 23, 24, 25]\n",
        "auto_data[numeric_columns] = auto_data[numeric_columns].apply(pd.to_numeric)"
      ],
      "metadata": {
        "id": "EdDhs_5ZkQGO"
      },
      "execution_count": 20,
      "outputs": []
    },
    {
      "cell_type": "code",
      "source": [
        "# Separate features and target\n",
        "X = auto_data.drop(columns=[25])  # Features\n",
        "y = auto_data[25]  # Target (Price)\n"
      ],
      "metadata": {
        "id": "MPOxeQkgkS3a"
      },
      "execution_count": 21,
      "outputs": []
    },
    {
      "cell_type": "code",
      "source": [
        "# Log-transform the target to stabilize range\n",
        "y = np.log1p(y)"
      ],
      "metadata": {
        "id": "Emm8QHXjmeU3"
      },
      "execution_count": 22,
      "outputs": []
    },
    {
      "cell_type": "code",
      "source": [
        "# Handle categorical columns\n",
        "categorical_columns = X.select_dtypes(include=[\"object\"]).columns\n",
        "ohe = OneHotEncoder(sparse_output=False, handle_unknown=\"ignore\")\n",
        "categorical_encoded = ohe.fit_transform(X[categorical_columns])"
      ],
      "metadata": {
        "id": "51yymQhDkVMG"
      },
      "execution_count": 23,
      "outputs": []
    },
    {
      "cell_type": "code",
      "source": [
        "# Combine numeric and encoded categorical features\n",
        "numeric_features = X.select_dtypes(include=[\"number\"]).values\n",
        "X_processed = np.hstack((numeric_features, categorical_encoded))"
      ],
      "metadata": {
        "id": "PfhuJrfAkr8k"
      },
      "execution_count": 24,
      "outputs": []
    },
    {
      "cell_type": "code",
      "source": [
        "# Normalize features\n",
        "scaler = StandardScaler()\n",
        "X_processed = scaler.fit_transform(X_processed)"
      ],
      "metadata": {
        "id": "RyE85oOJku5P"
      },
      "execution_count": 25,
      "outputs": []
    },
    {
      "cell_type": "code",
      "source": [
        "# Split data into train and test\n",
        "X_train, X_test, y_train, y_test = train_test_split(X_processed, y, test_size=0.2, random_state=42)"
      ],
      "metadata": {
        "id": "G7X-aT55kxfx"
      },
      "execution_count": 26,
      "outputs": []
    },
    {
      "cell_type": "code",
      "source": [
        "# Convert to PyTorch tensors\n",
        "X_train_tensor = torch.tensor(X_train, dtype=torch.float32)\n",
        "X_test_tensor = torch.tensor(X_test, dtype=torch.float32)\n",
        "y_train_tensor = torch.tensor(y_train.values, dtype=torch.float32).view(-1, 1)\n",
        "y_test_tensor = torch.tensor(y_test.values, dtype=torch.float32).view(-1, 1)"
      ],
      "metadata": {
        "id": "-Nw8r6zJk15M"
      },
      "execution_count": 27,
      "outputs": []
    },
    {
      "cell_type": "code",
      "source": [
        "# Define the MLP model\n",
        "class MLPRegressor(nn.Module):\n",
        "    def __init__(self, input_size, hidden_layers):\n",
        "        super(MLPRegressor, self).__init__()\n",
        "        layers = []\n",
        "        for i, hidden_size in enumerate(hidden_layers):\n",
        "            layers.append(nn.Linear(input_size if i == 0 else hidden_layers[i-1], hidden_size))\n",
        "            layers.append(nn.ReLU())\n",
        "        layers.append(nn.Linear(hidden_layers[-1], 1))  # Output layer for regression\n",
        "        self.model = nn.Sequential(*layers)\n",
        "\n",
        "    def forward(self, x):\n",
        "        return self.model(x)"
      ],
      "metadata": {
        "id": "fCShTF65k5Le"
      },
      "execution_count": 28,
      "outputs": []
    },
    {
      "cell_type": "code",
      "source": [
        "# Model parameters\n",
        "input_size = X_train.shape[1]\n",
        "hidden_layers = [64, 32]\n",
        "learning_rate = 0.001\n",
        "batch_size = 32\n",
        "epochs = 100"
      ],
      "metadata": {
        "id": "YlPlssWXk-Jt"
      },
      "execution_count": 29,
      "outputs": []
    },
    {
      "cell_type": "code",
      "source": [
        "# Initialize the model, loss function, and optimizer\n",
        "model = MLPRegressor(input_size, hidden_layers)\n",
        "criterion = nn.MSELoss()\n",
        "optimizer = optim.Adam(model.parameters(), lr=learning_rate)\n"
      ],
      "metadata": {
        "id": "bDtEaeYMlBNV"
      },
      "execution_count": 30,
      "outputs": []
    },
    {
      "cell_type": "code",
      "source": [
        "# Training loop\n",
        "def train_model(model, X_train, y_train, batch_size, epochs):\n",
        "    for epoch in range(epochs):\n",
        "        model.train()\n",
        "        permutation = torch.randperm(X_train.size(0))\n",
        "        epoch_loss = 0\n",
        "        for i in range(0, X_train.size(0), batch_size):\n",
        "            indices = permutation[i:i + batch_size]\n",
        "            batch_X, batch_y = X_train[indices], y_train[indices]\n",
        "\n",
        "            optimizer.zero_grad()\n",
        "            outputs = model(batch_X)\n",
        "            loss = criterion(outputs, batch_y)\n",
        "            loss.backward()\n",
        "            optimizer.step()\n",
        "\n",
        "            epoch_loss += loss.item()\n",
        "        print(f\"Epoch [{epoch + 1}/{epochs}], Loss: {epoch_loss / (X_train.size(0) // batch_size):.4f}\")\n",
        "\n",
        "train_model(model, X_train_tensor, y_train_tensor, batch_size, epochs)"
      ],
      "metadata": {
        "colab": {
          "base_uri": "https://localhost:8080/"
        },
        "id": "OK4LKQotlEnK",
        "outputId": "665ff045-0e9a-4bae-8c7c-3aca454820fe"
      },
      "execution_count": 31,
      "outputs": [
        {
          "output_type": "stream",
          "name": "stdout",
          "text": [
            "Epoch [1/100], Loss: nan\n",
            "Epoch [2/100], Loss: nan\n",
            "Epoch [3/100], Loss: nan\n",
            "Epoch [4/100], Loss: nan\n",
            "Epoch [5/100], Loss: nan\n",
            "Epoch [6/100], Loss: nan\n",
            "Epoch [7/100], Loss: nan\n",
            "Epoch [8/100], Loss: nan\n",
            "Epoch [9/100], Loss: nan\n",
            "Epoch [10/100], Loss: nan\n",
            "Epoch [11/100], Loss: nan\n",
            "Epoch [12/100], Loss: nan\n",
            "Epoch [13/100], Loss: nan\n",
            "Epoch [14/100], Loss: nan\n",
            "Epoch [15/100], Loss: nan\n",
            "Epoch [16/100], Loss: nan\n",
            "Epoch [17/100], Loss: nan\n",
            "Epoch [18/100], Loss: nan\n",
            "Epoch [19/100], Loss: nan\n",
            "Epoch [20/100], Loss: nan\n",
            "Epoch [21/100], Loss: nan\n",
            "Epoch [22/100], Loss: nan\n",
            "Epoch [23/100], Loss: nan\n",
            "Epoch [24/100], Loss: nan\n",
            "Epoch [25/100], Loss: nan\n",
            "Epoch [26/100], Loss: nan\n",
            "Epoch [27/100], Loss: nan\n",
            "Epoch [28/100], Loss: nan\n",
            "Epoch [29/100], Loss: nan\n",
            "Epoch [30/100], Loss: nan\n",
            "Epoch [31/100], Loss: nan\n",
            "Epoch [32/100], Loss: nan\n",
            "Epoch [33/100], Loss: nan\n",
            "Epoch [34/100], Loss: nan\n",
            "Epoch [35/100], Loss: nan\n",
            "Epoch [36/100], Loss: nan\n",
            "Epoch [37/100], Loss: nan\n",
            "Epoch [38/100], Loss: nan\n",
            "Epoch [39/100], Loss: nan\n",
            "Epoch [40/100], Loss: nan\n",
            "Epoch [41/100], Loss: nan\n",
            "Epoch [42/100], Loss: nan\n",
            "Epoch [43/100], Loss: nan\n",
            "Epoch [44/100], Loss: nan\n",
            "Epoch [45/100], Loss: nan\n",
            "Epoch [46/100], Loss: nan\n",
            "Epoch [47/100], Loss: nan\n",
            "Epoch [48/100], Loss: nan\n",
            "Epoch [49/100], Loss: nan\n",
            "Epoch [50/100], Loss: nan\n",
            "Epoch [51/100], Loss: nan\n",
            "Epoch [52/100], Loss: nan\n",
            "Epoch [53/100], Loss: nan\n",
            "Epoch [54/100], Loss: nan\n",
            "Epoch [55/100], Loss: nan\n",
            "Epoch [56/100], Loss: nan\n",
            "Epoch [57/100], Loss: nan\n",
            "Epoch [58/100], Loss: nan\n",
            "Epoch [59/100], Loss: nan\n",
            "Epoch [60/100], Loss: nan\n",
            "Epoch [61/100], Loss: nan\n",
            "Epoch [62/100], Loss: nan\n",
            "Epoch [63/100], Loss: nan\n",
            "Epoch [64/100], Loss: nan\n",
            "Epoch [65/100], Loss: nan\n",
            "Epoch [66/100], Loss: nan\n",
            "Epoch [67/100], Loss: nan\n",
            "Epoch [68/100], Loss: nan\n",
            "Epoch [69/100], Loss: nan\n",
            "Epoch [70/100], Loss: nan\n",
            "Epoch [71/100], Loss: nan\n",
            "Epoch [72/100], Loss: nan\n",
            "Epoch [73/100], Loss: nan\n",
            "Epoch [74/100], Loss: nan\n",
            "Epoch [75/100], Loss: nan\n",
            "Epoch [76/100], Loss: nan\n",
            "Epoch [77/100], Loss: nan\n",
            "Epoch [78/100], Loss: nan\n",
            "Epoch [79/100], Loss: nan\n",
            "Epoch [80/100], Loss: nan\n",
            "Epoch [81/100], Loss: nan\n",
            "Epoch [82/100], Loss: nan\n",
            "Epoch [83/100], Loss: nan\n",
            "Epoch [84/100], Loss: nan\n",
            "Epoch [85/100], Loss: nan\n",
            "Epoch [86/100], Loss: nan\n",
            "Epoch [87/100], Loss: nan\n",
            "Epoch [88/100], Loss: nan\n",
            "Epoch [89/100], Loss: nan\n",
            "Epoch [90/100], Loss: nan\n",
            "Epoch [91/100], Loss: nan\n",
            "Epoch [92/100], Loss: nan\n",
            "Epoch [93/100], Loss: nan\n",
            "Epoch [94/100], Loss: nan\n",
            "Epoch [95/100], Loss: nan\n",
            "Epoch [96/100], Loss: nan\n",
            "Epoch [97/100], Loss: nan\n",
            "Epoch [98/100], Loss: nan\n",
            "Epoch [99/100], Loss: nan\n",
            "Epoch [100/100], Loss: nan\n"
          ]
        }
      ]
    },
    {
      "cell_type": "code",
      "source": [
        "# Evaluate the model\n",
        "def evaluate_model(model, X_test, y_test):\n",
        "    model.eval()\n",
        "    with torch.no_grad():\n",
        "        predictions = model(X_test)\n",
        "        mse = criterion(predictions, y_test).item()\n",
        "        print(f\"Mean Squared Error (MSE): {mse:.2f}\")\n",
        "\n",
        "evaluate_model(model, X_test_tensor, y_test_tensor)"
      ],
      "metadata": {
        "colab": {
          "base_uri": "https://localhost:8080/"
        },
        "id": "p6o89e1NlJrT",
        "outputId": "b8989558-81d4-4e6a-9dfa-c1b5d004a859"
      },
      "execution_count": 32,
      "outputs": [
        {
          "output_type": "stream",
          "name": "stdout",
          "text": [
            "Mean Squared Error (MSE): nan\n"
          ]
        }
      ]
    }
  ]
}